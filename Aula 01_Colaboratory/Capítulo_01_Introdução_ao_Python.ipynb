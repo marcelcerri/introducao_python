{
  "cells": [
    {
      "cell_type": "markdown",
      "metadata": {
        "id": "_BFFNJGdJomR"
      },
      "source": [
        "# Introdução à linguagem de programação Python para Biocientistas"
      ]
    },
    {
      "cell_type": "markdown",
      "metadata": {
        "id": "9mWNbnp3JomV"
      },
      "source": [
        "## Porque Python para Biocientistas?\n"
      ]
    },
    {
      "cell_type": "markdown",
      "metadata": {
        "id": "skaA9IAqJomV"
      },
      "source": [
        "A biologia moderna é uma ciência de dados. Seja na genômica, na proteômica, na biologia celular ou na ecologia, a quantidade de dados gerados diariamente é imensa. Analisar, interpretar e extrair conhecimento significativo dessa avalanche de informações é um dos maiores desafios do biocientista atual. É exatamente aqui que a programação se torna uma ferramenta indispensável, e o Python se destaca como a linguagem de escolha para a comunidade científica.\n",
        "\n",
        "* Simplicidade e Curva de Aprendizagem Suave: Python foi projetado com uma\n",
        "sintaxe limpa e legível, que se assemelha muito à linguagem humana. Para um cientista, cujo foco principal é a pesquisa biológica e não a ciência da computação, essa simplicidade significa que é possível começar a escrever scripts úteis e automatizar tarefas muito mais rápido do que com outras linguagens de programação.\n",
        "\n",
        "* Um Ecossistema Robusto de Bibliotecas Científicas: A verdadeira força do Python para a ciência reside em seu vasto conjunto de \"bibliotecas\" — pacotes de código pronto que oferecem funcionalidades complexas de forma simples. Para um biocientista, isso significa ter ao alcance dos dedos ferramentas poderosas para:\n",
        "\n",
        "* Bioinformática com Biopython: Como mencionado no plano de aula, o Biopython é uma biblioteca fundamental que permite manipular sequências de DNA, RNA e proteínas, acessar bancos de dados biológicos online (como o NCBI), analisar estruturas de moléculas e muito mais.\n",
        "\n",
        "* Análise de Dados com Pandas e NumPy: O Pandas permite trabalhar com tabelas de dados (como planilhas de Excel, mas com superpoderes), ideal para organizar dados de expressão gênica ou resultados de experimentos. O NumPy é a base para qualquer cálculo numérico e estatístico em larga escala.\n",
        "\n",
        "* Visualização de Dados com Matplotlib e Seaborn: Criar gráficos e figuras de alta qualidade para artigos e apresentações é crucial. Essas bibliotecas permitem a criação de praticamente qualquer tipo de visualização estatística, desde gráficos de barra e dispersão até heatmaps complexos.\n",
        "\n",
        "* Machine Learning com Scikit-learn: A inteligência artificial está revolucionando a biologia, e o Python está no centro dessa revolução. Bibliotecas como o Scikit-learn tornam acessível a aplicação de algoritmos de aprendizado de máquina para prever interações medicamentosas, classificar tipos de células ou encontrar padrões em dados genômicos.\n",
        "\n",
        "\n"
      ]
    },
    {
      "cell_type": "markdown",
      "metadata": {
        "id": "twd186x5JomW"
      },
      "source": [
        "## Introdução ao Python"
      ]
    },
    {
      "cell_type": "markdown",
      "metadata": {
        "id": "SqHt9PRkJomW"
      },
      "source": [
        "### Python"
      ]
    },
    {
      "cell_type": "markdown",
      "metadata": {
        "id": "ByXsJfm5JomX"
      },
      "source": [
        "Python é uma linguagem de programação interpretada que foi lançada em 1991 e vem ganhando muitos adeptos por já ter uma forte comunidade que trabalha para o desenvolvimento de aplicações, utiliza o modelo comunitário de desenvolvimento e tem licença livre."
      ]
    },
    {
      "cell_type": "markdown",
      "metadata": {
        "id": "SlGkY8jVJomY"
      },
      "source": [
        "### Anaconda"
      ]
    },
    {
      "cell_type": "markdown",
      "metadata": {
        "id": "DZjL2ansJomY"
      },
      "source": [
        "Anaconda é um software de distribuição livre e de código aberto para as linguagens de programação em Python e R, Anaconda facilita muito o trabalho das pessoas que querem aprender a programar em Python ou R, pois já instala mais de 250 pacotes científicos para o usuário sem a necessidade instalação manual.\n",
        "\n",
        "Para instalação da Anaconda entre no site www.anaconda.com/downloads, escolha a versão do Python 3.6 ou 2.7, neste livro utilizaremos a versão 3.6\n",
        "\n",
        "Dentro do software Anaconda contém aplicações com interface gráfica para os usuários, onde facilitará o uso do Python ou R para os usuários.\n",
        "\n",
        "Uma destas aplicações é Jupyter Notebook é um ambiente gráfico para a programação em Python, R e Julia, que pode ser acessado online que o usuário pode programar mesmo online ou instalar o Jupyter Notebook em seu computador. O website é http://jupyter.org/.\n"
      ]
    },
    {
      "cell_type": "markdown",
      "metadata": {
        "id": "H7xCx6X6JomZ"
      },
      "source": [
        "### Comandos Básicos"
      ]
    },
    {
      "cell_type": "markdown",
      "metadata": {
        "id": "MWwVfMG_Joma"
      },
      "source": [
        "Em Python a cerquilha (#) é utilizado para comentários do programa, tudo que vem posterior à cerquilha será ignorado pelo Python, serve apenas para explicar ou orientar o programador.\n",
        "A primeira função é o print, que tem a função de imprimir, então temos que escrever print e entres os parênteses colocar o que queremos que o Python imprima.\n"
      ]
    },
    {
      "cell_type": "code",
      "execution_count": 1,
      "metadata": {
        "id": "hhP0mr_TJoma"
      },
      "outputs": [],
      "source": [
        "# Teste"
      ]
    },
    {
      "cell_type": "code",
      "execution_count": 2,
      "metadata": {
        "colab": {
          "base_uri": "https://localhost:8080/"
        },
        "id": "fZmcJYpKJomb",
        "outputId": "785a2c01-4440-4761-8d0d-27b86d280c36"
      },
      "outputs": [
        {
          "output_type": "stream",
          "name": "stdout",
          "text": [
            "Hello World\n"
          ]
        }
      ],
      "source": [
        "# Meu primeiro programa\n",
        "print(\"Hello World\")"
      ]
    },
    {
      "cell_type": "code",
      "execution_count": 3,
      "metadata": {
        "colab": {
          "base_uri": "https://localhost:8080/"
        },
        "id": "Q9zRjdguJomc",
        "outputId": "b9dfe9eb-5a3f-443d-b8e7-d29ca2303472"
      },
      "outputs": [
        {
          "output_type": "stream",
          "name": "stdout",
          "text": [
            "Oi\n"
          ]
        }
      ],
      "source": [
        "print('Oi')"
      ]
    },
    {
      "cell_type": "code",
      "execution_count": 4,
      "metadata": {
        "colab": {
          "base_uri": "https://localhost:8080/"
        },
        "id": "eVkI_bKiJomc",
        "outputId": "6f5f8e71-061b-4ad4-de3f-7ae480131e10"
      },
      "outputs": [
        {
          "output_type": "stream",
          "name": "stdout",
          "text": [
            "Olá Mundo\n"
          ]
        }
      ],
      "source": [
        "# Vamos tentar diferente\n",
        "a = \"Olá \"\n",
        "b = \"Mundo\"\n",
        "print(a + b)"
      ]
    },
    {
      "cell_type": "code",
      "execution_count": 5,
      "metadata": {
        "colab": {
          "base_uri": "https://localhost:8080/"
        },
        "id": "8W_cREr_Jomd",
        "outputId": "d3ce88de-bf5e-44c5-d78e-8a206a5fdcd5"
      },
      "outputs": [
        {
          "output_type": "execute_result",
          "data": {
            "text/plain": [
              "11"
            ]
          },
          "metadata": {},
          "execution_count": 5
        }
      ],
      "source": [
        "# Contas Simples\n",
        "4 + 7"
      ]
    },
    {
      "cell_type": "markdown",
      "metadata": {
        "id": "bfCzy7x4Jomd"
      },
      "source": [
        "Pode-se também realizar expressões mais complexas com os operadores básicos:\n",
        "\n",
        "Adição (+);\n",
        "\n",
        "Subtração (-) ;\n",
        "\n",
        "Multiplicação (*);\n",
        "\n",
        "Divisão (/)\n",
        "\n",
        "Exponenciação (**) ;\n",
        "\n",
        "Parte inteira da divisão (//)\n",
        "\n",
        "Resto da divisão (%)\n"
      ]
    },
    {
      "cell_type": "code",
      "execution_count": 6,
      "metadata": {
        "colab": {
          "base_uri": "https://localhost:8080/"
        },
        "id": "vST7FXG3Jomd",
        "outputId": "a8c2ce16-65a4-42a1-ad82-1788fd47d584"
      },
      "outputs": [
        {
          "output_type": "execute_result",
          "data": {
            "text/plain": [
              "3"
            ]
          },
          "metadata": {},
          "execution_count": 6
        }
      ],
      "source": [
        "#Subtração\n",
        "7 - 4"
      ]
    },
    {
      "cell_type": "code",
      "execution_count": 7,
      "metadata": {
        "colab": {
          "base_uri": "https://localhost:8080/"
        },
        "id": "n8hlipI5Jome",
        "outputId": "c26d75c6-2b2c-4f2e-e227-7613fc3ad7f5"
      },
      "outputs": [
        {
          "output_type": "execute_result",
          "data": {
            "text/plain": [
              "4.0"
            ]
          },
          "metadata": {},
          "execution_count": 7
        }
      ],
      "source": [
        "# Divisão\n",
        "8 / 2"
      ]
    },
    {
      "cell_type": "code",
      "execution_count": 8,
      "metadata": {
        "colab": {
          "base_uri": "https://localhost:8080/"
        },
        "id": "7dcOJyphJome",
        "outputId": "ed52a576-4112-49b7-a1c7-d3aaf3cbe86a"
      },
      "outputs": [
        {
          "output_type": "execute_result",
          "data": {
            "text/plain": [
              "77"
            ]
          },
          "metadata": {},
          "execution_count": 8
        }
      ],
      "source": [
        "# Multiplicação\n",
        "11 * 7"
      ]
    },
    {
      "cell_type": "code",
      "execution_count": 9,
      "metadata": {
        "colab": {
          "base_uri": "https://localhost:8080/"
        },
        "id": "a3vgc1VMJomf",
        "outputId": "368e1a1f-99c0-4e0c-dbc8-fadc02c556c0"
      },
      "outputs": [
        {
          "output_type": "execute_result",
          "data": {
            "text/plain": [
              "64"
            ]
          },
          "metadata": {},
          "execution_count": 9
        }
      ],
      "source": [
        "# Exponenciação\n",
        "8 ** 2"
      ]
    },
    {
      "cell_type": "code",
      "execution_count": 10,
      "metadata": {
        "colab": {
          "base_uri": "https://localhost:8080/"
        },
        "id": "UZcOFyE7Jomf",
        "outputId": "32b3d14a-7745-4bb2-c262-84bd21847b2f"
      },
      "outputs": [
        {
          "output_type": "execute_result",
          "data": {
            "text/plain": [
              "5"
            ]
          },
          "metadata": {},
          "execution_count": 10
        }
      ],
      "source": [
        "# Divisão - Parte Inteira\n",
        "11 // 2"
      ]
    },
    {
      "cell_type": "code",
      "execution_count": 11,
      "metadata": {
        "colab": {
          "base_uri": "https://localhost:8080/"
        },
        "id": "bMfVpOhrJomf",
        "outputId": "2e52fedf-1da0-485c-b9b1-6cc88af8cb1b"
      },
      "outputs": [
        {
          "output_type": "execute_result",
          "data": {
            "text/plain": [
              "1"
            ]
          },
          "metadata": {},
          "execution_count": 11
        }
      ],
      "source": [
        "# Divisão - Resto\n",
        "11 % 2"
      ]
    },
    {
      "cell_type": "markdown",
      "metadata": {
        "id": "nsZzUnfIJomg"
      },
      "source": [
        "### Tipos de Variáveis"
      ]
    },
    {
      "cell_type": "markdown",
      "metadata": {
        "id": "4lBjfuN4Jomg"
      },
      "source": [
        "Existem alguns padrões de tipos de dados em Python, que são padrões de dados reconhecidos pela linguagem de programação, normalmente quando possíveis eles são mutáveis, dentro dos padrões numéricos existentes alguns tipos, que são os números inteiros (‘int’), números decimais (‘float’), números complexos (‘complex’) e um subitem dos números inteiros são os booleanos (‘bool’), este último está relacionado com Verdadeiro (‘True’) e Falso (‘False’), o valor Verdadeiro também recebe o valor de 1, e o valor Falso recebe 0.\n",
        "\n",
        "As saídas do exemplo anterior já foram classificadas automaticamente os tipos de dados de acordo com a sua entrada.\n",
        "\n",
        "O comando type retorna o tipo de padrão de dados que a Python classificou.\n"
      ]
    },
    {
      "cell_type": "code",
      "execution_count": 12,
      "metadata": {
        "colab": {
          "base_uri": "https://localhost:8080/"
        },
        "id": "grWy4X_0Jomg",
        "outputId": "5cd30f54-bb62-44e0-ddf7-dd1de3064ba6"
      },
      "outputs": [
        {
          "output_type": "stream",
          "name": "stdout",
          "text": [
            "<class 'int'>\n"
          ]
        }
      ],
      "source": [
        "a = 7 - 4\n",
        "print(type(a))"
      ]
    },
    {
      "cell_type": "code",
      "execution_count": 13,
      "metadata": {
        "colab": {
          "base_uri": "https://localhost:8080/"
        },
        "id": "0SPWZD05Jomg",
        "outputId": "6414bbc2-97df-482f-fa44-c25744ec5650"
      },
      "outputs": [
        {
          "output_type": "stream",
          "name": "stdout",
          "text": [
            "<class 'float'>\n"
          ]
        }
      ],
      "source": [
        "b = 7 - 4.0\n",
        "print(type(b))"
      ]
    },
    {
      "cell_type": "code",
      "execution_count": 14,
      "metadata": {
        "colab": {
          "base_uri": "https://localhost:8080/"
        },
        "id": "G1azM6YbJomg",
        "outputId": "01d71ab9-1922-4ba9-bfec-0178fcd71756"
      },
      "outputs": [
        {
          "output_type": "stream",
          "name": "stdout",
          "text": [
            "<class 'str'>\n"
          ]
        }
      ],
      "source": [
        "c = \"quatro\"\n",
        "print(type(c))"
      ]
    },
    {
      "cell_type": "code",
      "execution_count": 17,
      "metadata": {
        "colab": {
          "base_uri": "https://localhost:8080/"
        },
        "id": "mlona1hWJomh",
        "outputId": "6b2eb09d-1a5a-43b4-fb18-8e82ea0e2f90"
      },
      "outputs": [
        {
          "output_type": "stream",
          "name": "stdout",
          "text": [
            "<class 'complex'>\n"
          ]
        }
      ],
      "source": [
        "d = 4 + 2j\n",
        "print(type(d))"
      ]
    },
    {
      "cell_type": "code",
      "execution_count": 16,
      "metadata": {
        "colab": {
          "base_uri": "https://localhost:8080/"
        },
        "id": "vifQS7zsJomh",
        "outputId": "1d46645e-732a-46aa-bfe4-f02f2168d292"
      },
      "outputs": [
        {
          "output_type": "stream",
          "name": "stdout",
          "text": [
            "<class 'bool'>\n"
          ]
        }
      ],
      "source": [
        "e = True\n",
        "print(type(e))"
      ]
    },
    {
      "cell_type": "markdown",
      "metadata": {
        "id": "4ZUybdhuJomh"
      },
      "source": [
        "### Várias formas de escrever o mesmo programa"
      ]
    },
    {
      "cell_type": "code",
      "execution_count": 18,
      "metadata": {
        "colab": {
          "base_uri": "https://localhost:8080/"
        },
        "id": "z3FsXDaRJomh",
        "outputId": "bcad1b94-10c6-4987-93d3-e700bcc45f6d"
      },
      "outputs": [
        {
          "output_type": "stream",
          "name": "stdout",
          "text": [
            "5\n"
          ]
        }
      ],
      "source": [
        "a = 2\n",
        "b = 3\n",
        "print (a + b)"
      ]
    },
    {
      "cell_type": "code",
      "execution_count": 19,
      "metadata": {
        "colab": {
          "base_uri": "https://localhost:8080/"
        },
        "id": "cuG22kTbJomi",
        "outputId": "481e5e68-a6ea-4bbd-ad4b-4e4dc66c1106"
      },
      "outputs": [
        {
          "output_type": "stream",
          "name": "stdout",
          "text": [
            "5\n"
          ]
        }
      ],
      "source": [
        "print(2 + 3)"
      ]
    },
    {
      "cell_type": "code",
      "execution_count": 20,
      "metadata": {
        "colab": {
          "base_uri": "https://localhost:8080/"
        },
        "id": "HoCBRQHeJomi",
        "outputId": "6b27ec5e-1253-4ffa-9db1-897ad735fc7b"
      },
      "outputs": [
        {
          "output_type": "stream",
          "name": "stdout",
          "text": [
            "5\n"
          ]
        }
      ],
      "source": [
        "print(5)"
      ]
    },
    {
      "cell_type": "markdown",
      "metadata": {
        "id": "dh_d_dwjJomi"
      },
      "source": [
        "### Programa 1"
      ]
    },
    {
      "cell_type": "markdown",
      "metadata": {
        "id": "GA8t7tVUJomi"
      },
      "source": [
        "Cálculo de diluição de solução"
      ]
    },
    {
      "cell_type": "code",
      "execution_count": 21,
      "metadata": {
        "colab": {
          "base_uri": "https://localhost:8080/"
        },
        "id": "hFu0fqApJomj",
        "outputId": "5d107343-ad1a-4598-ac62-daa0120131d8"
      },
      "outputs": [
        {
          "output_type": "stream",
          "name": "stdout",
          "text": [
            "A concentração final da solução é:\n",
            "1.0\n"
          ]
        }
      ],
      "source": [
        "# Programa - Cálculo de diluição de solução\n",
        "\n",
        "# c1 = Concentração inicial, v1 = Volume inicial\n",
        "# v2 = Volume final, c2 = Concentração final\n",
        "c1 = 10.0  # Ex: Concentração da solução estoque em Molar (M)\n",
        "v1 = 5.0   # Ex: Volume que será retirado do estoque (em mL)\n",
        "v2 = 50.0  # Ex: Volume final da nova solução (em mL)\n",
        "\n",
        "# A fórmula da diluição é C1 * V1 = C2 * V2\n",
        "# Para encontrar a concentração final (C2), usamos: C2 = (C1 * V1) / V2\n",
        "c2 = (c1 * v1) / v2\n",
        "\n",
        "# Imprime o resultado da concentração final\n",
        "print(\"A concentração final da solução é:\")\n",
        "print(c2)"
      ]
    },
    {
      "cell_type": "markdown",
      "metadata": {
        "id": "bj5AE3lCJomj"
      },
      "source": [
        "### Operadores relacionais"
      ]
    },
    {
      "cell_type": "code",
      "execution_count": 22,
      "metadata": {
        "id": "Ptz5nbgCJomj"
      },
      "outputs": [],
      "source": [
        "a = 1\n",
        "b = 5\n",
        "c = 2\n",
        "d = 1"
      ]
    },
    {
      "cell_type": "code",
      "execution_count": 23,
      "metadata": {
        "colab": {
          "base_uri": "https://localhost:8080/"
        },
        "id": "0nFQSVelJomj",
        "outputId": "6422aeed-4e0b-4978-b246-9f83a45495ec"
      },
      "outputs": [
        {
          "output_type": "execute_result",
          "data": {
            "text/plain": [
              "False"
            ]
          },
          "metadata": {},
          "execution_count": 23
        }
      ],
      "source": [
        "a == b # a é igual a b?"
      ]
    },
    {
      "cell_type": "code",
      "execution_count": 24,
      "metadata": {
        "colab": {
          "base_uri": "https://localhost:8080/"
        },
        "id": "FZAEbSAqJomx",
        "outputId": "61bcb731-419c-408d-f847-68bfbb62b12c"
      },
      "outputs": [
        {
          "output_type": "execute_result",
          "data": {
            "text/plain": [
              "True"
            ]
          },
          "metadata": {},
          "execution_count": 24
        }
      ],
      "source": [
        "a < b # a é menor que b?"
      ]
    },
    {
      "cell_type": "code",
      "execution_count": 25,
      "metadata": {
        "colab": {
          "base_uri": "https://localhost:8080/"
        },
        "id": "i5xA4-VZJomx",
        "outputId": "8e0981a8-fe20-4e6d-a049-d5cfeecac29f"
      },
      "outputs": [
        {
          "output_type": "execute_result",
          "data": {
            "text/plain": [
              "True"
            ]
          },
          "metadata": {},
          "execution_count": 25
        }
      ],
      "source": [
        "b > a # b é maior que a?"
      ]
    },
    {
      "cell_type": "code",
      "execution_count": 26,
      "metadata": {
        "colab": {
          "base_uri": "https://localhost:8080/"
        },
        "id": "f99JsQ8XJomy",
        "outputId": "9e755540-e47a-4387-f546-4353fb58be5f"
      },
      "outputs": [
        {
          "output_type": "execute_result",
          "data": {
            "text/plain": [
              "True"
            ]
          },
          "metadata": {},
          "execution_count": 26
        }
      ],
      "source": [
        "a == d # a é igual a d?"
      ]
    },
    {
      "cell_type": "code",
      "execution_count": 27,
      "metadata": {
        "colab": {
          "base_uri": "https://localhost:8080/"
        },
        "id": "EZCprjpmJomy",
        "outputId": "5a8a1277-6eb7-4c85-97ab-932215e90715"
      },
      "outputs": [
        {
          "output_type": "execute_result",
          "data": {
            "text/plain": [
              "True"
            ]
          },
          "metadata": {},
          "execution_count": 27
        }
      ],
      "source": [
        "c <= b # c é menor ou igual a b?"
      ]
    },
    {
      "cell_type": "code",
      "execution_count": 28,
      "metadata": {
        "colab": {
          "base_uri": "https://localhost:8080/"
        },
        "id": "zkz2Vl5_Jomy",
        "outputId": "7008b30a-7f85-44dd-bd98-4089cdc9ab7b"
      },
      "outputs": [
        {
          "output_type": "execute_result",
          "data": {
            "text/plain": [
              "False"
            ]
          },
          "metadata": {},
          "execution_count": 28
        }
      ],
      "source": [
        "d != a # d é diferente de a ?"
      ]
    },
    {
      "cell_type": "code",
      "execution_count": 29,
      "metadata": {
        "colab": {
          "base_uri": "https://localhost:8080/"
        },
        "id": "jtYCFpCUJomy",
        "outputId": "7eb94b68-ddf2-45bf-db85-aa7505b81de9"
      },
      "outputs": [
        {
          "output_type": "execute_result",
          "data": {
            "text/plain": [
              "True"
            ]
          },
          "metadata": {},
          "execution_count": 29
        }
      ],
      "source": [
        "d != b # d é diferente de b?"
      ]
    },
    {
      "cell_type": "markdown",
      "metadata": {
        "id": "zNAL3FN0Jomz"
      },
      "source": [
        "# Aula 02"
      ]
    },
    {
      "cell_type": "markdown",
      "metadata": {
        "id": "pMdKyJO9Jomz"
      },
      "source": [
        "### Operadores lógicos"
      ]
    },
    {
      "cell_type": "code",
      "execution_count": 30,
      "metadata": {
        "colab": {
          "base_uri": "https://localhost:8080/"
        },
        "id": "hJHApPjfJomz",
        "outputId": "904e5f63-2c1e-4ab1-8490-e3d1941cfa0e"
      },
      "outputs": [
        {
          "output_type": "execute_result",
          "data": {
            "text/plain": [
              "False"
            ]
          },
          "metadata": {},
          "execution_count": 30
        }
      ],
      "source": [
        "not True"
      ]
    },
    {
      "cell_type": "code",
      "execution_count": 31,
      "metadata": {
        "colab": {
          "base_uri": "https://localhost:8080/"
        },
        "id": "2ygUI1mEJomz",
        "outputId": "732f273e-3381-46e6-847b-5d4f5def366f"
      },
      "outputs": [
        {
          "output_type": "execute_result",
          "data": {
            "text/plain": [
              "True"
            ]
          },
          "metadata": {},
          "execution_count": 31
        }
      ],
      "source": [
        "not False"
      ]
    },
    {
      "cell_type": "code",
      "execution_count": 32,
      "metadata": {
        "colab": {
          "base_uri": "https://localhost:8080/"
        },
        "id": "RLwzYqHzJomz",
        "outputId": "ae7c1f75-7440-417d-e1f7-69a46b22a83c"
      },
      "outputs": [
        {
          "output_type": "execute_result",
          "data": {
            "text/plain": [
              "True"
            ]
          },
          "metadata": {},
          "execution_count": 32
        }
      ],
      "source": [
        "True and True"
      ]
    },
    {
      "cell_type": "code",
      "execution_count": 33,
      "metadata": {
        "colab": {
          "base_uri": "https://localhost:8080/"
        },
        "id": "jUQNjD5cJomz",
        "outputId": "8cea44a6-3a7c-4a28-addc-b4f0fd04d54d"
      },
      "outputs": [
        {
          "output_type": "execute_result",
          "data": {
            "text/plain": [
              "False"
            ]
          },
          "metadata": {},
          "execution_count": 33
        }
      ],
      "source": [
        "True and False"
      ]
    },
    {
      "cell_type": "code",
      "execution_count": 34,
      "metadata": {
        "colab": {
          "base_uri": "https://localhost:8080/"
        },
        "id": "rn7dDEMLJom0",
        "outputId": "65a66f48-6ffe-46f2-f4ef-98a5ac965e43"
      },
      "outputs": [
        {
          "output_type": "execute_result",
          "data": {
            "text/plain": [
              "False"
            ]
          },
          "metadata": {},
          "execution_count": 34
        }
      ],
      "source": [
        "False and False"
      ]
    },
    {
      "cell_type": "code",
      "execution_count": 35,
      "metadata": {
        "colab": {
          "base_uri": "https://localhost:8080/"
        },
        "id": "0muAWFifJom0",
        "outputId": "dee08080-6078-470f-ca5f-a687e05ee068"
      },
      "outputs": [
        {
          "output_type": "execute_result",
          "data": {
            "text/plain": [
              "False"
            ]
          },
          "metadata": {},
          "execution_count": 35
        }
      ],
      "source": [
        "False and True"
      ]
    },
    {
      "cell_type": "code",
      "execution_count": 36,
      "metadata": {
        "colab": {
          "base_uri": "https://localhost:8080/"
        },
        "id": "P2hGqDHGJom0",
        "outputId": "532a3f03-29b4-4532-c668-f24f25c90355"
      },
      "outputs": [
        {
          "output_type": "execute_result",
          "data": {
            "text/plain": [
              "True"
            ]
          },
          "metadata": {},
          "execution_count": 36
        }
      ],
      "source": [
        "True or False"
      ]
    },
    {
      "cell_type": "code",
      "execution_count": 37,
      "metadata": {
        "colab": {
          "base_uri": "https://localhost:8080/"
        },
        "id": "tPZAGyPOJom0",
        "outputId": "ce1d6b71-de43-4512-def8-fb6080d029ed"
      },
      "outputs": [
        {
          "output_type": "execute_result",
          "data": {
            "text/plain": [
              "True"
            ]
          },
          "metadata": {},
          "execution_count": 37
        }
      ],
      "source": [
        "True or True"
      ]
    },
    {
      "cell_type": "code",
      "execution_count": 38,
      "metadata": {
        "colab": {
          "base_uri": "https://localhost:8080/"
        },
        "id": "uCRUnP1uJom1",
        "outputId": "73c68919-8403-431d-d4b7-1a411ea23911"
      },
      "outputs": [
        {
          "output_type": "execute_result",
          "data": {
            "text/plain": [
              "True"
            ]
          },
          "metadata": {},
          "execution_count": 38
        }
      ],
      "source": [
        "False or True"
      ]
    },
    {
      "cell_type": "code",
      "execution_count": 39,
      "metadata": {
        "colab": {
          "base_uri": "https://localhost:8080/"
        },
        "id": "ItBc3rTuJom1",
        "outputId": "93bb19a3-b6db-4062-f9fe-3e99c4370087"
      },
      "outputs": [
        {
          "output_type": "execute_result",
          "data": {
            "text/plain": [
              "False"
            ]
          },
          "metadata": {},
          "execution_count": 39
        }
      ],
      "source": [
        "False or False"
      ]
    },
    {
      "cell_type": "markdown",
      "metadata": {
        "id": "8dfCneawJom1"
      },
      "source": [
        "Teste que o salário tem que ser maior que 1000 e ter idade maior que 18 anos"
      ]
    },
    {
      "cell_type": "code",
      "execution_count": null,
      "metadata": {
        "id": "zd0F6RT6Jom1",
        "outputId": "748b5dec-f212-4e2b-c8c1-5f53318521c1"
      },
      "outputs": [
        {
          "data": {
            "text/plain": [
              "True"
            ]
          },
          "execution_count": 81,
          "metadata": {},
          "output_type": "execute_result"
        }
      ],
      "source": [
        "salario = 1500\n",
        "idade = 18\n",
        "salario > 1000 and idade >= 18"
      ]
    },
    {
      "cell_type": "code",
      "execution_count": null,
      "metadata": {
        "id": "Y-1E5GbtJom2",
        "outputId": "c352a599-0172-48b7-98b8-95c93363211e"
      },
      "outputs": [
        {
          "data": {
            "text/plain": [
              "False"
            ]
          },
          "execution_count": 82,
          "metadata": {},
          "output_type": "execute_result"
        }
      ],
      "source": [
        "salario = 1500\n",
        "idade = 17\n",
        "salario > 1000 and idade >= 18"
      ]
    },
    {
      "cell_type": "markdown",
      "metadata": {
        "id": "lWEKUmN5Jom2"
      },
      "source": [
        "### Variáveis string"
      ]
    },
    {
      "cell_type": "markdown",
      "metadata": {
        "id": "9T2qE47DJom2"
      },
      "source": [
        "A função len retorna o tamanho da string, um número inteiro, para ver a documentação aperte o botão shift + Tab"
      ]
    },
    {
      "cell_type": "code",
      "execution_count": null,
      "metadata": {
        "scrolled": true,
        "id": "eRaMf8KhJom2",
        "outputId": "b33b0161-3eec-4a51-b8b9-19ae16b13c41"
      },
      "outputs": [
        {
          "data": {
            "text/plain": [
              "1"
            ]
          },
          "execution_count": 83,
          "metadata": {},
          "output_type": "execute_result"
        }
      ],
      "source": [
        "len(\"A\")"
      ]
    },
    {
      "cell_type": "code",
      "execution_count": null,
      "metadata": {
        "id": "6pcciZY2Jom2",
        "outputId": "fa01f6ea-29c9-4c58-c69c-a88d5b28b852"
      },
      "outputs": [
        {
          "data": {
            "text/plain": [
              "2"
            ]
          },
          "execution_count": 84,
          "metadata": {},
          "output_type": "execute_result"
        }
      ],
      "source": [
        "len(\"AB\")"
      ]
    },
    {
      "cell_type": "code",
      "execution_count": null,
      "metadata": {
        "id": "Gm_vSfWJJom3",
        "outputId": "7cc3bbf9-d02e-4311-f448-85aee05e62d0"
      },
      "outputs": [
        {
          "data": {
            "text/plain": [
              "19"
            ]
          },
          "execution_count": 85,
          "metadata": {},
          "output_type": "execute_result"
        }
      ],
      "source": [
        "len(\"o rato roeu a roupa\")"
      ]
    },
    {
      "cell_type": "code",
      "execution_count": null,
      "metadata": {
        "id": "84lzF5cpJom3"
      },
      "outputs": [],
      "source": [
        "a = \"ABCDEF\""
      ]
    },
    {
      "cell_type": "code",
      "execution_count": null,
      "metadata": {
        "id": "db55S4NkJom3",
        "outputId": "7a0bba25-155a-4837-fbbc-1d2606533f95"
      },
      "outputs": [
        {
          "data": {
            "text/plain": [
              "'A'"
            ]
          },
          "execution_count": 87,
          "metadata": {},
          "output_type": "execute_result"
        }
      ],
      "source": [
        "a[0]"
      ]
    },
    {
      "cell_type": "code",
      "execution_count": null,
      "metadata": {
        "id": "FtwXWXo2Jom3",
        "outputId": "0e349616-8b37-4cf5-ead2-921ed63daae5"
      },
      "outputs": [
        {
          "data": {
            "text/plain": [
              "'B'"
            ]
          },
          "execution_count": 88,
          "metadata": {},
          "output_type": "execute_result"
        }
      ],
      "source": [
        "a[1]"
      ]
    },
    {
      "cell_type": "code",
      "execution_count": null,
      "metadata": {
        "id": "H1SKBtKtJom3",
        "outputId": "b359fb93-e439-43ba-e6e6-df099b8cd6d6"
      },
      "outputs": [
        {
          "ename": "IndexError",
          "evalue": "string index out of range",
          "output_type": "error",
          "traceback": [
            "\u001b[1;31m---------------------------------------------------------------------------\u001b[0m",
            "\u001b[1;31mIndexError\u001b[0m                                Traceback (most recent call last)",
            "\u001b[1;32m<ipython-input-89-84c1e027215d>\u001b[0m in \u001b[0;36m<module>\u001b[1;34m\u001b[0m\n\u001b[1;32m----> 1\u001b[1;33m \u001b[0ma\u001b[0m\u001b[1;33m[\u001b[0m\u001b[1;36m6\u001b[0m\u001b[1;33m]\u001b[0m\u001b[1;33m\u001b[0m\u001b[1;33m\u001b[0m\u001b[0m\n\u001b[0m",
            "\u001b[1;31mIndexError\u001b[0m: string index out of range"
          ]
        }
      ],
      "source": [
        "a[6]"
      ]
    },
    {
      "cell_type": "code",
      "execution_count": null,
      "metadata": {
        "id": "yDCirAgMJom3"
      },
      "outputs": [],
      "source": [
        "a[-1]"
      ]
    },
    {
      "cell_type": "code",
      "execution_count": null,
      "metadata": {
        "id": "ryLxjkTRJom4"
      },
      "outputs": [],
      "source": [
        "a[-2]"
      ]
    },
    {
      "cell_type": "code",
      "execution_count": null,
      "metadata": {
        "id": "wU90A0f9Jom4"
      },
      "outputs": [],
      "source": [
        "a[:]"
      ]
    },
    {
      "cell_type": "code",
      "execution_count": null,
      "metadata": {
        "id": "ovK5fIq9Jom6"
      },
      "outputs": [],
      "source": [
        "a[0:6]"
      ]
    },
    {
      "cell_type": "code",
      "execution_count": null,
      "metadata": {
        "id": "XEkqpCyKJom6"
      },
      "outputs": [],
      "source": [
        "a[0:3]"
      ]
    },
    {
      "cell_type": "code",
      "execution_count": null,
      "metadata": {
        "id": "e7mYsbPbJom6"
      },
      "outputs": [],
      "source": [
        "a[2:6]"
      ]
    },
    {
      "cell_type": "markdown",
      "metadata": {
        "id": "cwILbSEuJom6"
      },
      "source": [
        "### Concatenação"
      ]
    },
    {
      "cell_type": "code",
      "execution_count": null,
      "metadata": {
        "id": "kWAh8k4tJom6",
        "outputId": "f50b118d-a0fc-49be-b1ed-ef2cc8fe8f02"
      },
      "outputs": [
        {
          "data": {
            "text/plain": [
              "'ABCC'"
            ]
          },
          "execution_count": 2,
          "metadata": {},
          "output_type": "execute_result"
        }
      ],
      "source": [
        "s = \"ABC\"\n",
        "s + \"C\""
      ]
    },
    {
      "cell_type": "code",
      "execution_count": null,
      "metadata": {
        "id": "rjUet9LDJom7",
        "outputId": "76fef71a-7342-499b-a149-495bef34cb5f"
      },
      "outputs": [
        {
          "data": {
            "text/plain": [
              "'ABCDDDD'"
            ]
          },
          "execution_count": 3,
          "metadata": {},
          "output_type": "execute_result"
        }
      ],
      "source": [
        "s + \"D\" * 4"
      ]
    },
    {
      "cell_type": "code",
      "execution_count": null,
      "metadata": {
        "id": "EzYHBHYTJom7",
        "outputId": "a26d3b92-7baf-4204-8540-b58d9b4cc28b"
      },
      "outputs": [
        {
          "data": {
            "text/plain": [
              "'X----------X'"
            ]
          },
          "execution_count": 4,
          "metadata": {},
          "output_type": "execute_result"
        }
      ],
      "source": [
        "\"X\"+ \"-\"*10 + \"X\""
      ]
    },
    {
      "cell_type": "markdown",
      "metadata": {
        "id": "ajiwjhehJom7"
      },
      "source": [
        "Esta forma de concatenação só pode ser utilizado por strings"
      ]
    },
    {
      "cell_type": "markdown",
      "metadata": {
        "id": "lRcH9waNJom7"
      },
      "source": [
        "### Composição"
      ]
    },
    {
      "cell_type": "code",
      "execution_count": 40,
      "metadata": {
        "colab": {
          "base_uri": "https://localhost:8080/"
        },
        "id": "NmV68F5EJom7",
        "outputId": "4c5b78a6-e43c-4714-8c0c-09dd57272f6f"
      },
      "outputs": [
        {
          "output_type": "stream",
          "name": "stdout",
          "text": [
            "João tem 39 anos e R$ 60.59 no bolso\n"
          ]
        }
      ],
      "source": [
        "nome = \"João\"\n",
        "idade = 39\n",
        "grana = 60.59\n",
        "print(f\"{nome} tem {idade} anos e R$ {grana:.2f} no bolso\")"
      ]
    },
    {
      "cell_type": "markdown",
      "metadata": {
        "id": "O4PoV0biJom8"
      },
      "source": [
        "Forma mais moderna para compor a frase é utilizando format"
      ]
    },
    {
      "cell_type": "markdown",
      "metadata": {
        "id": "YLMnr8x-Jom9"
      },
      "source": [
        "### Sequência e tempo"
      ]
    },
    {
      "cell_type": "markdown",
      "metadata": {
        "id": "on_aPa0jJom9"
      },
      "source": [
        "Um programa é executado linha por linha pelo computador, executando as operações descritas no programa uma após a outra. Quando trabalhamos com variáveis, devemos lembrar de que o conteúdo de uma variável pode variar com o tempo."
      ]
    },
    {
      "cell_type": "code",
      "execution_count": null,
      "metadata": {
        "id": "qptsvJB7Jom9",
        "outputId": "f7c5ac15-4087-44fe-f5d2-8f1b6fa822da"
      },
      "outputs": [
        {
          "name": "stdout",
          "output_type": "stream",
          "text": [
            "765\n"
          ]
        }
      ],
      "source": [
        "divida = 0\n",
        "compra = 200\n",
        "divida = divida + compra\n",
        "compra = 250\n",
        "divida = divida + compra\n",
        "compra = 315\n",
        "divida = divida + compra\n",
        "compra = 0\n",
        "print(divida)"
      ]
    },
    {
      "cell_type": "markdown",
      "metadata": {
        "id": "aIxjw6TmJom9"
      },
      "source": [
        "### Entrada de dados"
      ]
    },
    {
      "cell_type": "code",
      "execution_count": null,
      "metadata": {
        "id": "uKBfQ_FfJom9",
        "outputId": "c49f42c5-a3cf-4d40-cfd9-215534ab90d3"
      },
      "outputs": [
        {
          "name": "stdout",
          "output_type": "stream",
          "text": [
            "Qual é o seu nome?Marcel\n",
            "Olá Marcel\n"
          ]
        }
      ],
      "source": [
        "nome = input(\"Qual é o seu nome?\")\n",
        "print(\"Olá \"+ nome)"
      ]
    },
    {
      "cell_type": "code",
      "execution_count": null,
      "metadata": {
        "id": "OycD9cazJom9",
        "outputId": "aee8620d-77b5-46fc-b111-f5874837cc71"
      },
      "outputs": [
        {
          "name": "stdout",
          "output_type": "stream",
          "text": [
            "Digite um número: 12\n",
            "12\n"
          ]
        }
      ],
      "source": [
        "x = input(\"Digite um número: \")\n",
        "print(x)"
      ]
    },
    {
      "cell_type": "code",
      "source": [
        "# Programa interativo para cálculo de diluição\n",
        "\n",
        "# Pede ao usuário para inserir os valores\n",
        "c1 = float(input(\"Digite o valor da concentração inicial: \"))\n",
        "unidade_c = input(\"Qual a unidade de concentração (ex: M, mM, µM)? \")\n",
        "\n",
        "v1 = float(input(\"Digite o valor do volume inicial: \"))\n",
        "unidade_v = input(\"Qual a unidade de volume (ex: L, mL, µL)? \")\n",
        "\n",
        "v2 = float(input(f\"Digite o valor do volume final (em {unidade_v}): \"))\n",
        "\n",
        "# Realiza o cálculo da diluição\n",
        "c2 = (c1 * v1) / v2\n",
        "\n",
        "# Exibe o resultado de forma formatada (usando f-string)\n",
        "# O :.2f formata o número para exibir apenas 2 casas decimais\n",
        "print(f\"A concentração final da sua solução será de {c2:.2f} {unidade_c}.\")"
      ],
      "metadata": {
        "colab": {
          "base_uri": "https://localhost:8080/"
        },
        "id": "_30nOvmuM_y-",
        "outputId": "3c1e7d45-235f-4000-d100-df6ff2a84e16"
      },
      "execution_count": 42,
      "outputs": [
        {
          "output_type": "stream",
          "name": "stdout",
          "text": [
            "Digite o valor da concentração inicial: 5\n",
            "Qual a unidade de concentração (ex: M, mM, µM)? M\n",
            "Digite o valor do volume inicial: 10\n",
            "Qual a unidade de volume (ex: L, mL, µL)? mL\n",
            "Digite o valor do volume final (em mL): 5\n",
            "A concentração final da sua solução será de 10.00 M.\n"
          ]
        }
      ]
    },
    {
      "cell_type": "markdown",
      "metadata": {
        "id": "OqhsecBdJom-"
      },
      "source": [
        "### Conversão de entrada de dados"
      ]
    },
    {
      "cell_type": "markdown",
      "metadata": {
        "id": "Q5ibPu_dJom-"
      },
      "source": [
        "A função input sempre retorna valores do tipo string"
      ]
    },
    {
      "cell_type": "code",
      "execution_count": 43,
      "metadata": {
        "colab": {
          "base_uri": "https://localhost:8080/"
        },
        "id": "LJ0XDDgyJom-",
        "outputId": "1b54c895-588e-452f-8b73-0b3e173eece1"
      },
      "outputs": [
        {
          "output_type": "stream",
          "name": "stdout",
          "text": [
            "Anos de serviço: 12\n",
            "Valor por ano: 50\n",
            "Bonus de R$ 600.0\n"
          ]
        }
      ],
      "source": [
        "anos = int(input(\"Anos de serviço: \"))\n",
        "valor_por_ano = float(input(\"Valor por ano: \"))\n",
        "bonus = anos * valor_por_ano\n",
        "print(\"Bonus de R$ {}\".format(bonus))"
      ]
    },
    {
      "cell_type": "code",
      "execution_count": 44,
      "metadata": {
        "colab": {
          "base_uri": "https://localhost:8080/"
        },
        "id": "1W5VyQeZJom-",
        "outputId": "652d57c9-44a8-415e-d177-6057e5abc567"
      },
      "outputs": [
        {
          "output_type": "stream",
          "name": "stdout",
          "text": [
            "Help on built-in function print in module builtins:\n",
            "\n",
            "print(*args, sep=' ', end='\\n', file=None, flush=False)\n",
            "    Prints the values to a stream, or to sys.stdout by default.\n",
            "    \n",
            "    sep\n",
            "      string inserted between values, default a space.\n",
            "    end\n",
            "      string appended after the last value, default a newline.\n",
            "    file\n",
            "      a file-like object (stream); defaults to the current sys.stdout.\n",
            "    flush\n",
            "      whether to forcibly flush the stream.\n",
            "\n"
          ]
        }
      ],
      "source": [
        "help(print)"
      ]
    },
    {
      "cell_type": "markdown",
      "metadata": {
        "id": "yOx7aDuoJom-"
      },
      "source": [
        "Neste capítulos vimos as funções:\n",
        "\n",
        "print\n",
        "\n",
        "type\n",
        "\n",
        "len\n",
        "\n",
        "input\n",
        "\n",
        "int\n",
        "\n",
        "float\n",
        "\n",
        "help\n",
        "\n",
        "Você pode estudar as funções built-in do Python em sua documentação\n",
        "https://docs.python.org/3/library/functions.html\n"
      ]
    },
    {
      "cell_type": "markdown",
      "metadata": {
        "id": "BsMCKKaBJom-"
      },
      "source": [
        "### Exercícios"
      ]
    },
    {
      "cell_type": "markdown",
      "metadata": {
        "id": "-CU9ZSFNJom_"
      },
      "source": [
        "1 - Escreva um programa que converta uma temperatura digitada em graus Celsius para graus Fahrenheit."
      ]
    },
    {
      "cell_type": "markdown",
      "metadata": {
        "id": "RPy5errYJom_"
      },
      "source": [
        "2 -  Escreva um programa que leia um valor em metros e o exiba convertido em milimetros."
      ]
    },
    {
      "cell_type": "markdown",
      "metadata": {
        "id": "OEqzdOK0Jom_"
      },
      "source": [
        "3- Faça um programa que receba (entrada de dados) o valor correspondente ao lado de um quadrado, calcule e imprima (saída de dados) seu perímetro e sua área."
      ]
    },
    {
      "cell_type": "markdown",
      "metadata": {
        "id": "1v4-Izn9Jom_"
      },
      "source": [
        "4 - Faça um programa que receba quatro notas, calcule e imprima a média aritmética."
      ]
    },
    {
      "cell_type": "markdown",
      "metadata": {
        "id": "yBLpfrJZJom_"
      },
      "source": [
        "5 - Calcule o índice de massa corporal, entrando com os valores de massa do indíviduo e estatura."
      ]
    },
    {
      "cell_type": "markdown",
      "metadata": {
        "id": "CWEeguGjJom_"
      },
      "source": [
        "#### Exercício 1"
      ]
    },
    {
      "cell_type": "code",
      "execution_count": null,
      "metadata": {
        "id": "oX_dHcq6JonA",
        "outputId": "cc55f25f-07d5-4d0d-a50d-906a316a440f"
      },
      "outputs": [
        {
          "name": "stdout",
          "output_type": "stream",
          "text": [
            "Entre com o valor em graus Celsius: 35\n",
            "A Temperatura em graus Fahrenheit é 95.0\n"
          ]
        }
      ],
      "source": [
        "# Exercício 1 - Converte graus Celsius em Fahrenheit\n",
        "C = float(input(\"Entre com o valor em graus Celsius: \"))\n",
        "F = ((9 * C)/5)+32\n",
        "print(\"A Temperatura em graus Fahrenheit é {}\".format(F))\n"
      ]
    },
    {
      "cell_type": "code",
      "execution_count": null,
      "metadata": {
        "id": "DqTQZZeTJonA",
        "outputId": "ff2b7206-e6f0-473c-eeb1-cc27328d6911"
      },
      "outputs": [
        {
          "name": "stdout",
          "output_type": "stream",
          "text": [
            "Entre com o valor da distância em metros: 10\n",
            "A distância em milimetros é 10000.0\n"
          ]
        }
      ],
      "source": [
        "# Exercício 2 - Converte metros em milimetros\n",
        "M = float(input(\"Entre com o valor da distância em metros: \"))\n",
        "mm = M * 1000\n",
        "print(\"A distância em milimetros é {}\".format(mm))"
      ]
    },
    {
      "cell_type": "code",
      "execution_count": null,
      "metadata": {
        "id": "keX64hExJonA",
        "outputId": "8a3f8cd2-3052-49dc-fe1a-a5ee1d59c479"
      },
      "outputs": [
        {
          "name": "stdout",
          "output_type": "stream",
          "text": [
            "Entre com o valor do lado do quadrado 15\n",
            "perímetro: 60 -área: 225\n"
          ]
        }
      ],
      "source": [
        "#Exercício 3 - Calcula o perímetro e área de um quadrado de lado l\n",
        "\n",
        "l = input(\"Entre com o valor do lado do quadrado \")\n",
        "l = int(l)\n",
        "\n",
        "x = l *4\n",
        "y = l*l\n",
        "\n",
        "print('perímetro:', x, '-área:', y)"
      ]
    },
    {
      "cell_type": "code",
      "execution_count": null,
      "metadata": {
        "id": "ms_qSpVVJonA",
        "outputId": "d440c5fe-c942-4309-c188-3386cc697af2"
      },
      "outputs": [
        {
          "name": "stdout",
          "output_type": "stream",
          "text": [
            "Entre com o valor da primeira nota10\n",
            "Entre com o valor da segunda nota7\n",
            "Entre com o valor da terceira nota6\n",
            "Entre com o valor da quarta nota6.5\n",
            "A média aritmética é 7.375\n"
          ]
        }
      ],
      "source": [
        "#Exercício 4 - Faça um programa em Python que receba quatro notas, calcule e imprima a média aritmética.\n",
        "\n",
        "a = input('Entre com o valor da primeira nota')\n",
        "b = input('Entre com o valor da segunda nota')\n",
        "c = input('Entre com o valor da terceira nota')\n",
        "d = input('Entre com o valor da quarta nota')\n",
        "a = float(a)\n",
        "b = float(b)\n",
        "c = float(c)\n",
        "d = float(d)\n",
        "media = (a + b + c + d) / 4\n",
        "print('A média aritmética é', media)\n"
      ]
    },
    {
      "cell_type": "code",
      "execution_count": null,
      "metadata": {
        "id": "bjxM8i0hJonA",
        "outputId": "adbd0b56-1c23-4ce9-a37d-5bc779741556"
      },
      "outputs": [
        {
          "name": "stdout",
          "output_type": "stream",
          "text": [
            "Entre com o peso em quilogramas: 85\n",
            "Entre com a estatura em metros: 1.82\n",
            "O índice de massa corporal é 25.661152034778407\n"
          ]
        }
      ],
      "source": [
        "# Exercício 5 - Calcule IMC\n",
        "massa = float(input(\"Entre com o peso em quilogramas: \"))\n",
        "altura = float(input(\"Entre com a estatura em metros: \"))\n",
        "IMC = (massa) / (altura**2)\n",
        "print(\"O índice de massa corporal é {}\".format(IMC))"
      ]
    },
    {
      "cell_type": "markdown",
      "metadata": {
        "id": "n0spgh0DJonB"
      },
      "source": [
        "Desafio - Faça um programa em que dada a quantidade de segundos, converta esse valor em dias, horas, minutos e segundos. A saída deve estar no formato: a dias, b horas, c minutos e d segundos."
      ]
    },
    {
      "cell_type": "code",
      "execution_count": null,
      "metadata": {
        "id": "evwI8IBEJonB",
        "outputId": "7276e40d-91b7-48c3-9093-b4efa2983dee"
      },
      "outputs": [
        {
          "name": "stdout",
          "output_type": "stream",
          "text": [
            "Entre com o tempo em segundos que quer converter: 2000\n",
            "0 dias, 0 horas, 33 minutos e 20 segundos.\n"
          ]
        }
      ],
      "source": [
        "seg = int(input(\"Entre com o tempo em segundos que quer converter: \"))\n",
        "dia = seg // 86400\n",
        "dia_rest = seg % 86400\n",
        "hora = dia_rest // 3600\n",
        "hora_rest = dia_rest % 3600\n",
        "min = hora_rest // 60\n",
        "seg_rest = hora_rest % 60\n",
        "\n",
        "print(dia, \"dias,\", hora, \"horas,\", min, \"minutos e\", seg_rest, \"segundos.\" )"
      ]
    }
  ],
  "metadata": {
    "kernelspec": {
      "display_name": "Python 3",
      "language": "python",
      "name": "python3"
    },
    "language_info": {
      "codemirror_mode": {
        "name": "ipython",
        "version": 3
      },
      "file_extension": ".py",
      "mimetype": "text/x-python",
      "name": "python",
      "nbconvert_exporter": "python",
      "pygments_lexer": "ipython3",
      "version": "3.8.3"
    },
    "colab": {
      "provenance": []
    }
  },
  "nbformat": 4,
  "nbformat_minor": 0
}